{
 "cells": [
  {
   "cell_type": "code",
   "execution_count": null,
   "id": "b5d2685a",
   "metadata": {},
   "outputs": [],
   "source": [
    "import pandas as pd\n",
    "import numpy as np\n",
    "from sklearn.model_selection import train_test_split\n",
    "from sklearn.preprocessing import StandardScaler\n",
    "from tensorflow.keras.models import Sequential\n",
    "from tensorflow.keras.layers import Dense, Dropout\n",
    "from tensorflow.keras.optimizers import Adam"
   ]
  },
  {
   "cell_type": "code",
   "execution_count": null,
   "id": "5a9ab7e9",
   "metadata": {},
   "outputs": [],
   "source": [
    "# Load vehicle data\n",
    "vehicle_data = pd.read_csv('../data/vehicle data/vehicles.csv')\n",
    "\n",
    "# Load traffic data\n",
    "traffic_volumes = pd.read_csv('../data/traffic data/Traffic_Volumes.csv')\n",
    "bottlenecks = pd.read_csv('../data/traffic data/Bottlenecks.csv')\n",
    "\n",
    "print(\"Vehicle Data:\")\n",
    "print(vehicle_data.head())\n",
    "\n",
    "print(\"Traffic Volumes:\")\n",
    "print(traffic_volumes.head())\n",
    "\n",
    "print(\"Bottlenecks:\")\n",
    "print(bottlenecks.head())"
   ]
  },
  {
   "cell_type": "code",
   "execution_count": null,
   "id": "2ced99cb",
   "metadata": {},
   "outputs": [],
   "source": [
    "# Drop missing values\n",
    "vehicle_data.dropna(inplace=True)\n",
    "traffic_volumes.dropna(inplace=True)\n",
    "bottlenecks.dropna(inplace=True)\n",
    "\n",
    "# Rename columns for consistency\n",
    "vehicle_data.rename(columns={\n",
    "    'Fuel_Consumption_City': 'city_fuel_efficiency',\n",
    "    'Fuel_Consumption_Hwy': 'highway_fuel_efficiency',\n",
    "    'CO2_Emissions': 'co2_emissions'\n",
    "}, inplace=True)"
   ]
  },
  {
   "cell_type": "code",
   "execution_count": null,
   "id": "97c8fc18",
   "metadata": {},
   "outputs": [],
   "source": [
    "# Create a combined fuel efficiency feature\n",
    "vehicle_data['combined_fuel_efficiency'] = (\n",
    "    vehicle_data['city_fuel_efficiency'] * 0.55 +\n",
    "    vehicle_data['highway_fuel_efficiency'] * 0.45\n",
    ")\n",
    "\n",
    "# Normalize traffic severity in bottlenecks\n",
    "bottlenecks['normalized_traffic_severity'] = (\n",
    "    bottlenecks['traffic_severity'] / bottlenecks['traffic_severity'].max()\n",
    ")\n"
   ]
  },
  {
   "cell_type": "code",
   "execution_count": null,
   "id": "9554fab7",
   "metadata": {},
   "outputs": [],
   "source": [
    "# Replace 'location' with the actual column that links traffic and vehicle data\n",
    "merged_data = pd.merge(traffic_volumes, vehicle_data, on='location', how='inner')\n",
    "\n",
    "# Add normalized traffic severity\n",
    "merged_data = pd.merge(merged_data, bottlenecks[['location', 'normalized_traffic_severity']], on='location', how='left')\n"
   ]
  },
  {
   "cell_type": "code",
   "execution_count": null,
   "id": "285ed47f",
   "metadata": {},
   "outputs": [],
   "source": [
    "X = merged_data[['distance', 'normalized_traffic_severity', 'combined_fuel_efficiency']]\n",
    "y_fuel = merged_data['fuel_consumption']  # Target: Fuel consumption\n",
    "y_co2 = merged_data['co2_emissions']      # Target: CO2 emissions\n"
   ]
  },
  {
   "cell_type": "code",
   "execution_count": null,
   "id": "c92a79de",
   "metadata": {},
   "outputs": [],
   "source": [
    "# Split data\n",
    "X_train, X_test, y_fuel_train, y_fuel_test = train_test_split(X, y_fuel, test_size=0.2, random_state=42)\n",
    "_, _, y_co2_train, y_co2_test = train_test_split(X, y_co2, test_size=0.2, random_state=42)\n",
    "\n",
    "# Scale features\n",
    "scaler = StandardScaler()\n",
    "X_train = scaler.fit_transform(X_train)\n",
    "X_test = scaler.transform(X_test)\n"
   ]
  },
  {
   "cell_type": "code",
   "execution_count": null,
   "id": "3caa8299",
   "metadata": {},
   "outputs": [],
   "source": [
    "# Define the model\n",
    "model = Sequential([\n",
    "    Dense(64, activation='relu', input_shape=(X_train.shape[1],)),\n",
    "    Dropout(0.3),\n",
    "    Dense(32, activation='relu'),\n",
    "    Dropout(0.3),\n",
    "    Dense(1)  # Single output for regression\n",
    "])\n",
    "\n",
    "# Compile the model\n",
    "model.compile(optimizer=Adam(learning_rate=0.001), loss='mse', metrics=['mse'])\n"
   ]
  },
  {
   "cell_type": "code",
   "execution_count": null,
   "id": "8498b219",
   "metadata": {},
   "outputs": [],
   "source": [
    "history_fuel = model.fit(X_train, y_fuel_train, epochs=50, batch_size=32, validation_split=0.2)\n",
    "history_co2 = model.fit(X_train, y_co2_train, epochs=50, batch_size=32, validation_split=0.2)\n"
   ]
  },
  {
   "cell_type": "code",
   "execution_count": null,
   "id": "926f1c79",
   "metadata": {},
   "outputs": [],
   "source": [
    "fuel_mse = model.evaluate(X_test, y_fuel_test, verbose=0)[1]\n",
    "print(f\"Fuel Consumption Model MSE: {fuel_mse}\")\n",
    "\n",
    "co2_mse = model.evaluate(X_test, y_co2_test, verbose=0)[1]\n",
    "print(f\"CO₂ Emissions Model MSE: {co2_mse}\")\n"
   ]
  },
  {
   "cell_type": "code",
   "execution_count": null,
   "id": "c03dccd8",
   "metadata": {},
   "outputs": [],
   "source": [
    "# Save the fuel consumption model\n",
    "model.save('../models/fuel_consumption_model.h5')\n",
    "\n",
    "# Save the CO₂ emissions model\n",
    "model.save('../models/co2_emissions_model.h5')\n"
   ]
  }
 ],
 "metadata": {
  "kernelspec": {
   "display_name": "base",
   "language": "python",
   "name": "python3"
  },
  "language_info": {
   "name": "python",
   "version": "3.11.5 (main, Sep 11 2023, 08:31:25) [Clang 14.0.6 ]"
  },
  "vscode": {
   "interpreter": {
    "hash": "d9a4aab999b09d34f67d26c6144e1baa6f2c0c050bd4fb9a952b08e795c982eb"
   }
  }
 },
 "nbformat": 4,
 "nbformat_minor": 5
}
